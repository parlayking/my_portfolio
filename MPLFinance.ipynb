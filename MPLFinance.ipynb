{
 "cells": [
  {
   "cell_type": "markdown",
   "id": "6b14bee6",
   "metadata": {},
   "source": [
    "<h1>MPLFinance Charts and Plots </h1>\n",
    "<h2> Hello! This Notebook is to show the usefulness of the MPLFinance Module. It is great to dissect financial and especially stock market data. I show most of the visualizations in the code below. please check the <a href=\"https://pypi.org/project/mplfinance/\"> Documentation </a></h2>"
   ]
  },
  {
   "cell_type": "markdown",
   "id": "993379bb",
   "metadata": {},
   "source": [
    "<h3> Start with our imports</h3>"
   ]
  },
  {
   "cell_type": "code",
   "execution_count": null,
   "id": "89f584fc",
   "metadata": {},
   "outputs": [],
   "source": [
    "import yfinance as yf\n",
    "import pandas as pd\n",
    "import mplfinance as mpf"
   ]
  },
  {
   "cell_type": "markdown",
   "id": "e392d23e",
   "metadata": {},
   "source": [
    "<h4>choose a Ticker Symbol we want to research, for this project we will use Microsoft ('MSFT')</h4>"
   ]
  },
  {
   "cell_type": "code",
   "execution_count": null,
   "id": "15ccf991",
   "metadata": {},
   "outputs": [],
   "source": [
    "TICKER = \"MSFT\"\n",
    "# build dataframe with start and end date of yf.download func. (much faster than yf.history)\n",
    "df = yf.download(TICKER, start=\"2020-01-01\",\n",
    "                 end=\"2020-12-31\", auto_adjust=True)"
   ]
  },
  {
   "cell_type": "code",
   "execution_count": null,
   "id": "de1c82e2",
   "metadata": {},
   "outputs": [],
   "source": [
    "use mplfinance to plot a OHLC (Open,High,Low,Close) chart\n",
    "mpf.plot(df[\"2020-07-01\":])\n",
    "# and High and Low lines to bracket in or chart\n",
    "extra_plot = mpf.make_addplot(df.loc[\"2020-07-01\":, [\"High\", \"Low\"]])\n",
    "mpf.plot(df[\"2020-07-01\":], addplot=extra_plot)"
   ]
  },
  {
   "cell_type": "code",
   "execution_count": null,
   "id": "74c044d1",
   "metadata": {},
   "outputs": [],
   "source": [
    "# plot a candle chart\n",
    "mpf.plot(df[\"2020-07-01\":], type=\"candle\")\n",
    "# show non trading days to get all dates to show in chart\n",
    "mpf.plot(df[\"2020-07-01\":], type=\"candle\", show_nontrading=True)\n",
    "# chart to showm MovingAverage of last 15, 30 days\n",
    "mpf.plot(df, type=\"candle\", mav=(15, 30), volume=True)"
   ]
  },
  {
   "cell_type": "code",
   "execution_count": null,
   "id": "9c9f3c26",
   "metadata": {},
   "outputs": [],
   "source": [
    "# Renko chart built using price movement of a certain specified amout,It doesn't take into account a standardized time interval liike candlestick and OHLC\n",
    "# What it means is that a new block is created when the predetermined price movement occurs (set to 3, will create new block if price +-3, but not if it moves by 2.14.each subsequent block is added at a 45-degree angle to the prior one\n",
    "# The most common use of the Renko chart is to filter out noise from the price series and to help with identifying trends in the prices..\n",
    "mpf.plot(df, type=\"renko\")\n",
    "# change the brick size with extra argument\n",
    "mpf.plot(df, type=\"renko\", renko_params=dict(brick_size=2))"
   ]
  },
  {
   "cell_type": "markdown",
   "id": "40d5909f",
   "metadata": {},
   "source": [
    "Prettify our output"
   ]
  },
  {
   "cell_type": "code",
   "execution_count": null,
   "id": "ba637503",
   "metadata": {},
   "outputs": [],
   "source": [
    "# xtra arguments to prettify our plots\n",
    "mpf.plot(df, figratio=(10, 6), type=\"candle\", mav=(25), volume=True, title=f\"Price of {TICKER}\",\n",
    "         tight_layout=True, style=\"starsandstripes\")\n",
    "# list current styles\n",
    "# different stylesbinance',\n",
    "# 'blueskies',\n",
    "# 'brasil',\n",
    "# 'charles',\n",
    "# 'checkers',\n",
    "# 'classic',\n",
    "# 'default',\n",
    "# 'ibd',\n",
    "# 'kenan',\n",
    "# 'mike',\n",
    "# 'nightclouds',\n",
    "# 'sas',\n",
    "# 'starsandstripes',\n",
    "# 'yahoo'"
   ]
  },
  {
   "cell_type": "markdown",
   "id": "f11ef903",
   "metadata": {},
   "source": [
    "We Can also save our plots to a file! wit the savefig arg"
   ]
  },
  {
   "cell_type": "code",
   "execution_count": null,
   "id": "b04b9225",
   "metadata": {},
   "outputs": [],
   "source": [
    "# save plots to a file\n",
    "mpf.plot(df, figratio=(10, 6), type=\"candle\",\n",
    "         mav=(25), volume=True,\n",
    "         title=f\"Price of {TICKER}\",\n",
    "         tight_layout=True, style=\"binance\",\n",
    "         savefig=f\"{TICKER}.png\")"
   ]
  }
 ],
 "metadata": {
  "kernelspec": {
   "display_name": "Python 3",
   "language": "python",
   "name": "python3"
  },
  "language_info": {
   "codemirror_mode": {
    "name": "ipython",
    "version": 3
   },
   "file_extension": ".py",
   "mimetype": "text/x-python",
   "name": "python",
   "nbconvert_exporter": "python",
   "pygments_lexer": "ipython3",
   "version": "3.8.8"
  }
 },
 "nbformat": 4,
 "nbformat_minor": 5
}
