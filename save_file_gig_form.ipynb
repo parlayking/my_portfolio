{
 "cells": [
  {
   "cell_type": "markdown",
   "id": "08bc330d",
   "metadata": {},
   "source": [
    "####This is the file that is saving the data entered"
   ]
  },
  {
   "cell_type": "code",
   "execution_count": null,
   "id": "946d062e",
   "metadata": {},
   "outputs": [],
   "source": [
    "import pandas as pd\n",
    "file=open('Gig_Form.CSV')"
   ]
  }
 ],
 "metadata": {
  "kernelspec": {
   "display_name": "Python 3",
   "language": "python",
   "name": "python3"
  },
  "language_info": {
   "codemirror_mode": {
    "name": "ipython",
    "version": 3
   },
   "file_extension": ".py",
   "mimetype": "text/x-python",
   "name": "python",
   "nbconvert_exporter": "python",
   "pygments_lexer": "ipython3",
   "version": "3.8.8"
  }
 },
 "nbformat": 4,
 "nbformat_minor": 5
}
