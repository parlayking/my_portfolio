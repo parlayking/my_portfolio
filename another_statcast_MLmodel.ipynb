{
 "cells": [
  {
   "cell_type": "markdown",
   "id": "3f46c3df",
   "metadata": {},
   "source": [
    "This will be the start of Our Random Forest Regression model to help us predict team success"
   ]
  },
  {
   "cell_type": "code",
   "execution_count": 40,
   "id": "c627a021",
   "metadata": {},
   "outputs": [],
   "source": [
    "import pybaseball as pyb\n",
    "import pandas as pd\n",
    "import seaborn as sns\n",
    "import sklearn as skl\n",
    "import numpy as np"
   ]
  },
  {
   "cell_type": "markdown",
   "id": "c231841a",
   "metadata": {},
   "source": [
    "Get Offensive stats from 1995-present, this is the most modern era of baseball's long, and storied past."
   ]
  },
  {
   "cell_type": "code",
   "execution_count": 41,
   "id": "75c44c46",
   "metadata": {},
   "outputs": [],
   "source": [
    "team = pyb.fg_batting_data(1995,2021,stat_columns=['R','wRC','wOBA','WAR','OPS','ISO','OBP','SLG','HR','BB'])"
   ]
  },
  {
   "cell_type": "markdown",
   "id": "f1940d65",
   "metadata": {},
   "source": [
    "check for missing values with stacking of two calls"
   ]
  },
  {
   "cell_type": "code",
   "execution_count": 42,
   "id": "7ae8ddc1",
   "metadata": {},
   "outputs": [
    {
     "data": {
      "text/html": [
       "<div>\n",
       "<style scoped>\n",
       "    .dataframe tbody tr th:only-of-type {\n",
       "        vertical-align: middle;\n",
       "    }\n",
       "\n",
       "    .dataframe tbody tr th {\n",
       "        vertical-align: top;\n",
       "    }\n",
       "\n",
       "    .dataframe thead th {\n",
       "        text-align: right;\n",
       "    }\n",
       "</style>\n",
       "<table border=\"1\" class=\"dataframe\">\n",
       "  <thead>\n",
       "    <tr style=\"text-align: right;\">\n",
       "      <th></th>\n",
       "      <th>IDfg</th>\n",
       "      <th>Season</th>\n",
       "      <th>Name</th>\n",
       "      <th>Team</th>\n",
       "      <th>R</th>\n",
       "      <th>wRC</th>\n",
       "      <th>wOBA</th>\n",
       "      <th>WAR</th>\n",
       "      <th>OPS</th>\n",
       "      <th>ISO</th>\n",
       "      <th>OBP</th>\n",
       "      <th>SLG</th>\n",
       "      <th>HR</th>\n",
       "      <th>BB</th>\n",
       "    </tr>\n",
       "  </thead>\n",
       "  <tbody>\n",
       "    <tr>\n",
       "      <th>0</th>\n",
       "      <td>0</td>\n",
       "      <td>0</td>\n",
       "      <td>0</td>\n",
       "      <td>0</td>\n",
       "      <td>0</td>\n",
       "      <td>0</td>\n",
       "      <td>0</td>\n",
       "      <td>0</td>\n",
       "      <td>0</td>\n",
       "      <td>0</td>\n",
       "      <td>0</td>\n",
       "      <td>0</td>\n",
       "      <td>0</td>\n",
       "      <td>0</td>\n",
       "    </tr>\n",
       "    <tr>\n",
       "      <th>2</th>\n",
       "      <td>0</td>\n",
       "      <td>0</td>\n",
       "      <td>0</td>\n",
       "      <td>0</td>\n",
       "      <td>0</td>\n",
       "      <td>0</td>\n",
       "      <td>0</td>\n",
       "      <td>0</td>\n",
       "      <td>0</td>\n",
       "      <td>0</td>\n",
       "      <td>0</td>\n",
       "      <td>0</td>\n",
       "      <td>0</td>\n",
       "      <td>0</td>\n",
       "    </tr>\n",
       "    <tr>\n",
       "      <th>1</th>\n",
       "      <td>0</td>\n",
       "      <td>0</td>\n",
       "      <td>0</td>\n",
       "      <td>0</td>\n",
       "      <td>0</td>\n",
       "      <td>0</td>\n",
       "      <td>0</td>\n",
       "      <td>0</td>\n",
       "      <td>0</td>\n",
       "      <td>0</td>\n",
       "      <td>0</td>\n",
       "      <td>0</td>\n",
       "      <td>0</td>\n",
       "      <td>0</td>\n",
       "    </tr>\n",
       "    <tr>\n",
       "      <th>42</th>\n",
       "      <td>0</td>\n",
       "      <td>0</td>\n",
       "      <td>0</td>\n",
       "      <td>0</td>\n",
       "      <td>0</td>\n",
       "      <td>0</td>\n",
       "      <td>0</td>\n",
       "      <td>0</td>\n",
       "      <td>0</td>\n",
       "      <td>0</td>\n",
       "      <td>0</td>\n",
       "      <td>0</td>\n",
       "      <td>0</td>\n",
       "      <td>0</td>\n",
       "    </tr>\n",
       "    <tr>\n",
       "      <th>3</th>\n",
       "      <td>0</td>\n",
       "      <td>0</td>\n",
       "      <td>0</td>\n",
       "      <td>0</td>\n",
       "      <td>0</td>\n",
       "      <td>0</td>\n",
       "      <td>0</td>\n",
       "      <td>0</td>\n",
       "      <td>0</td>\n",
       "      <td>0</td>\n",
       "      <td>0</td>\n",
       "      <td>0</td>\n",
       "      <td>0</td>\n",
       "      <td>0</td>\n",
       "    </tr>\n",
       "    <tr>\n",
       "      <th>...</th>\n",
       "      <td>...</td>\n",
       "      <td>...</td>\n",
       "      <td>...</td>\n",
       "      <td>...</td>\n",
       "      <td>...</td>\n",
       "      <td>...</td>\n",
       "      <td>...</td>\n",
       "      <td>...</td>\n",
       "      <td>...</td>\n",
       "      <td>...</td>\n",
       "      <td>...</td>\n",
       "      <td>...</td>\n",
       "      <td>...</td>\n",
       "      <td>...</td>\n",
       "    </tr>\n",
       "    <tr>\n",
       "      <th>3958</th>\n",
       "      <td>0</td>\n",
       "      <td>0</td>\n",
       "      <td>0</td>\n",
       "      <td>0</td>\n",
       "      <td>0</td>\n",
       "      <td>0</td>\n",
       "      <td>0</td>\n",
       "      <td>0</td>\n",
       "      <td>0</td>\n",
       "      <td>0</td>\n",
       "      <td>0</td>\n",
       "      <td>0</td>\n",
       "      <td>0</td>\n",
       "      <td>0</td>\n",
       "    </tr>\n",
       "    <tr>\n",
       "      <th>3996</th>\n",
       "      <td>0</td>\n",
       "      <td>0</td>\n",
       "      <td>0</td>\n",
       "      <td>0</td>\n",
       "      <td>0</td>\n",
       "      <td>0</td>\n",
       "      <td>0</td>\n",
       "      <td>0</td>\n",
       "      <td>0</td>\n",
       "      <td>0</td>\n",
       "      <td>0</td>\n",
       "      <td>0</td>\n",
       "      <td>0</td>\n",
       "      <td>0</td>\n",
       "    </tr>\n",
       "    <tr>\n",
       "      <th>4016</th>\n",
       "      <td>0</td>\n",
       "      <td>0</td>\n",
       "      <td>0</td>\n",
       "      <td>0</td>\n",
       "      <td>0</td>\n",
       "      <td>0</td>\n",
       "      <td>0</td>\n",
       "      <td>0</td>\n",
       "      <td>0</td>\n",
       "      <td>0</td>\n",
       "      <td>0</td>\n",
       "      <td>0</td>\n",
       "      <td>0</td>\n",
       "      <td>0</td>\n",
       "    </tr>\n",
       "    <tr>\n",
       "      <th>3338</th>\n",
       "      <td>0</td>\n",
       "      <td>0</td>\n",
       "      <td>0</td>\n",
       "      <td>0</td>\n",
       "      <td>0</td>\n",
       "      <td>0</td>\n",
       "      <td>0</td>\n",
       "      <td>0</td>\n",
       "      <td>0</td>\n",
       "      <td>0</td>\n",
       "      <td>0</td>\n",
       "      <td>0</td>\n",
       "      <td>0</td>\n",
       "      <td>0</td>\n",
       "    </tr>\n",
       "    <tr>\n",
       "      <th>4019</th>\n",
       "      <td>0</td>\n",
       "      <td>0</td>\n",
       "      <td>0</td>\n",
       "      <td>0</td>\n",
       "      <td>0</td>\n",
       "      <td>0</td>\n",
       "      <td>0</td>\n",
       "      <td>0</td>\n",
       "      <td>0</td>\n",
       "      <td>0</td>\n",
       "      <td>0</td>\n",
       "      <td>0</td>\n",
       "      <td>0</td>\n",
       "      <td>0</td>\n",
       "    </tr>\n",
       "  </tbody>\n",
       "</table>\n",
       "<p>4020 rows × 14 columns</p>\n",
       "</div>"
      ],
      "text/plain": [
       "      IDfg  Season  Name  Team  R  wRC  wOBA  WAR  OPS  ISO  OBP  SLG  HR  BB\n",
       "0        0       0     0     0  0    0     0    0    0    0    0    0   0   0\n",
       "2        0       0     0     0  0    0     0    0    0    0    0    0   0   0\n",
       "1        0       0     0     0  0    0     0    0    0    0    0    0   0   0\n",
       "42       0       0     0     0  0    0     0    0    0    0    0    0   0   0\n",
       "3        0       0     0     0  0    0     0    0    0    0    0    0   0   0\n",
       "...    ...     ...   ...   ... ..  ...   ...  ...  ...  ...  ...  ...  ..  ..\n",
       "3958     0       0     0     0  0    0     0    0    0    0    0    0   0   0\n",
       "3996     0       0     0     0  0    0     0    0    0    0    0    0   0   0\n",
       "4016     0       0     0     0  0    0     0    0    0    0    0    0   0   0\n",
       "3338     0       0     0     0  0    0     0    0    0    0    0    0   0   0\n",
       "4019     0       0     0     0  0    0     0    0    0    0    0    0   0   0\n",
       "\n",
       "[4020 rows x 14 columns]"
      ]
     },
     "execution_count": 42,
     "metadata": {},
     "output_type": "execute_result"
    }
   ],
   "source": [
    "team.isna().cumsum()"
   ]
  },
  {
   "cell_type": "markdown",
   "id": "9afb5b71",
   "metadata": {},
   "source": [
    "drop na rows "
   ]
  },
  {
   "cell_type": "code",
   "execution_count": 43,
   "id": "dab0891f",
   "metadata": {},
   "outputs": [
    {
     "data": {
      "text/html": [
       "<div>\n",
       "<style scoped>\n",
       "    .dataframe tbody tr th:only-of-type {\n",
       "        vertical-align: middle;\n",
       "    }\n",
       "\n",
       "    .dataframe tbody tr th {\n",
       "        vertical-align: top;\n",
       "    }\n",
       "\n",
       "    .dataframe thead th {\n",
       "        text-align: right;\n",
       "    }\n",
       "</style>\n",
       "<table border=\"1\" class=\"dataframe\">\n",
       "  <thead>\n",
       "    <tr style=\"text-align: right;\">\n",
       "      <th></th>\n",
       "      <th>IDfg</th>\n",
       "      <th>Season</th>\n",
       "      <th>Name</th>\n",
       "      <th>Team</th>\n",
       "      <th>R</th>\n",
       "      <th>wRC</th>\n",
       "      <th>wOBA</th>\n",
       "      <th>WAR</th>\n",
       "      <th>OPS</th>\n",
       "      <th>ISO</th>\n",
       "      <th>OBP</th>\n",
       "      <th>SLG</th>\n",
       "      <th>HR</th>\n",
       "      <th>BB</th>\n",
       "    </tr>\n",
       "  </thead>\n",
       "  <tbody>\n",
       "    <tr>\n",
       "      <th>0</th>\n",
       "      <td>1109</td>\n",
       "      <td>2002</td>\n",
       "      <td>Barry Bonds</td>\n",
       "      <td>SFG</td>\n",
       "      <td>117</td>\n",
       "      <td>183</td>\n",
       "      <td>0.544</td>\n",
       "      <td>12.7</td>\n",
       "      <td>1.381</td>\n",
       "      <td>0.429</td>\n",
       "      <td>0.582</td>\n",
       "      <td>0.799</td>\n",
       "      <td>46</td>\n",
       "      <td>198</td>\n",
       "    </tr>\n",
       "    <tr>\n",
       "      <th>2</th>\n",
       "      <td>1109</td>\n",
       "      <td>2001</td>\n",
       "      <td>Barry Bonds</td>\n",
       "      <td>SFG</td>\n",
       "      <td>129</td>\n",
       "      <td>200</td>\n",
       "      <td>0.537</td>\n",
       "      <td>12.5</td>\n",
       "      <td>1.379</td>\n",
       "      <td>0.536</td>\n",
       "      <td>0.515</td>\n",
       "      <td>0.863</td>\n",
       "      <td>73</td>\n",
       "      <td>177</td>\n",
       "    </tr>\n",
       "    <tr>\n",
       "      <th>1</th>\n",
       "      <td>1109</td>\n",
       "      <td>2004</td>\n",
       "      <td>Barry Bonds</td>\n",
       "      <td>SFG</td>\n",
       "      <td>129</td>\n",
       "      <td>185</td>\n",
       "      <td>0.537</td>\n",
       "      <td>11.9</td>\n",
       "      <td>1.422</td>\n",
       "      <td>0.450</td>\n",
       "      <td>0.609</td>\n",
       "      <td>0.812</td>\n",
       "      <td>45</td>\n",
       "      <td>232</td>\n",
       "    </tr>\n",
       "    <tr>\n",
       "      <th>42</th>\n",
       "      <td>13611</td>\n",
       "      <td>2018</td>\n",
       "      <td>Mookie Betts</td>\n",
       "      <td>BOS</td>\n",
       "      <td>129</td>\n",
       "      <td>139</td>\n",
       "      <td>0.449</td>\n",
       "      <td>10.4</td>\n",
       "      <td>1.078</td>\n",
       "      <td>0.294</td>\n",
       "      <td>0.438</td>\n",
       "      <td>0.640</td>\n",
       "      <td>32</td>\n",
       "      <td>81</td>\n",
       "    </tr>\n",
       "    <tr>\n",
       "      <th>3</th>\n",
       "      <td>1109</td>\n",
       "      <td>2003</td>\n",
       "      <td>Barry Bonds</td>\n",
       "      <td>SFG</td>\n",
       "      <td>111</td>\n",
       "      <td>148</td>\n",
       "      <td>0.503</td>\n",
       "      <td>10.2</td>\n",
       "      <td>1.278</td>\n",
       "      <td>0.408</td>\n",
       "      <td>0.529</td>\n",
       "      <td>0.749</td>\n",
       "      <td>45</td>\n",
       "      <td>148</td>\n",
       "    </tr>\n",
       "    <tr>\n",
       "      <th>...</th>\n",
       "      <td>...</td>\n",
       "      <td>...</td>\n",
       "      <td>...</td>\n",
       "      <td>...</td>\n",
       "      <td>...</td>\n",
       "      <td>...</td>\n",
       "      <td>...</td>\n",
       "      <td>...</td>\n",
       "      <td>...</td>\n",
       "      <td>...</td>\n",
       "      <td>...</td>\n",
       "      <td>...</td>\n",
       "      <td>...</td>\n",
       "      <td>...</td>\n",
       "    </tr>\n",
       "    <tr>\n",
       "      <th>3958</th>\n",
       "      <td>8585</td>\n",
       "      <td>2009</td>\n",
       "      <td>Yuniesky Betancourt</td>\n",
       "      <td>- - -</td>\n",
       "      <td>40</td>\n",
       "      <td>38</td>\n",
       "      <td>0.273</td>\n",
       "      <td>-2.4</td>\n",
       "      <td>0.625</td>\n",
       "      <td>0.106</td>\n",
       "      <td>0.274</td>\n",
       "      <td>0.351</td>\n",
       "      <td>6</td>\n",
       "      <td>21</td>\n",
       "    </tr>\n",
       "    <tr>\n",
       "      <th>3996</th>\n",
       "      <td>595</td>\n",
       "      <td>1999</td>\n",
       "      <td>Mike Caruso</td>\n",
       "      <td>CHW</td>\n",
       "      <td>60</td>\n",
       "      <td>35</td>\n",
       "      <td>0.261</td>\n",
       "      <td>-2.7</td>\n",
       "      <td>0.577</td>\n",
       "      <td>0.047</td>\n",
       "      <td>0.280</td>\n",
       "      <td>0.297</td>\n",
       "      <td>2</td>\n",
       "      <td>20</td>\n",
       "    </tr>\n",
       "    <tr>\n",
       "      <th>4016</th>\n",
       "      <td>620</td>\n",
       "      <td>2002</td>\n",
       "      <td>Neifi Perez</td>\n",
       "      <td>KCR</td>\n",
       "      <td>65</td>\n",
       "      <td>32</td>\n",
       "      <td>0.247</td>\n",
       "      <td>-2.9</td>\n",
       "      <td>0.564</td>\n",
       "      <td>0.067</td>\n",
       "      <td>0.260</td>\n",
       "      <td>0.303</td>\n",
       "      <td>3</td>\n",
       "      <td>20</td>\n",
       "    </tr>\n",
       "    <tr>\n",
       "      <th>3338</th>\n",
       "      <td>57</td>\n",
       "      <td>1997</td>\n",
       "      <td>Jose Guillen</td>\n",
       "      <td>PIT</td>\n",
       "      <td>58</td>\n",
       "      <td>56</td>\n",
       "      <td>0.312</td>\n",
       "      <td>-3.1</td>\n",
       "      <td>0.712</td>\n",
       "      <td>0.145</td>\n",
       "      <td>0.300</td>\n",
       "      <td>0.412</td>\n",
       "      <td>14</td>\n",
       "      <td>17</td>\n",
       "    </tr>\n",
       "    <tr>\n",
       "      <th>4019</th>\n",
       "      <td>9272</td>\n",
       "      <td>2018</td>\n",
       "      <td>Chris Davis</td>\n",
       "      <td>BAL</td>\n",
       "      <td>40</td>\n",
       "      <td>29</td>\n",
       "      <td>0.239</td>\n",
       "      <td>-3.1</td>\n",
       "      <td>0.539</td>\n",
       "      <td>0.128</td>\n",
       "      <td>0.243</td>\n",
       "      <td>0.296</td>\n",
       "      <td>16</td>\n",
       "      <td>41</td>\n",
       "    </tr>\n",
       "  </tbody>\n",
       "</table>\n",
       "<p>4020 rows × 14 columns</p>\n",
       "</div>"
      ],
      "text/plain": [
       "       IDfg  Season                 Name   Team    R  wRC   wOBA   WAR    OPS  \\\n",
       "0      1109    2002          Barry Bonds    SFG  117  183  0.544  12.7  1.381   \n",
       "2      1109    2001          Barry Bonds    SFG  129  200  0.537  12.5  1.379   \n",
       "1      1109    2004          Barry Bonds    SFG  129  185  0.537  11.9  1.422   \n",
       "42    13611    2018         Mookie Betts    BOS  129  139  0.449  10.4  1.078   \n",
       "3      1109    2003          Barry Bonds    SFG  111  148  0.503  10.2  1.278   \n",
       "...     ...     ...                  ...    ...  ...  ...    ...   ...    ...   \n",
       "3958   8585    2009  Yuniesky Betancourt  - - -   40   38  0.273  -2.4  0.625   \n",
       "3996    595    1999          Mike Caruso    CHW   60   35  0.261  -2.7  0.577   \n",
       "4016    620    2002          Neifi Perez    KCR   65   32  0.247  -2.9  0.564   \n",
       "3338     57    1997         Jose Guillen    PIT   58   56  0.312  -3.1  0.712   \n",
       "4019   9272    2018          Chris Davis    BAL   40   29  0.239  -3.1  0.539   \n",
       "\n",
       "        ISO    OBP    SLG  HR   BB  \n",
       "0     0.429  0.582  0.799  46  198  \n",
       "2     0.536  0.515  0.863  73  177  \n",
       "1     0.450  0.609  0.812  45  232  \n",
       "42    0.294  0.438  0.640  32   81  \n",
       "3     0.408  0.529  0.749  45  148  \n",
       "...     ...    ...    ...  ..  ...  \n",
       "3958  0.106  0.274  0.351   6   21  \n",
       "3996  0.047  0.280  0.297   2   20  \n",
       "4016  0.067  0.260  0.303   3   20  \n",
       "3338  0.145  0.300  0.412  14   17  \n",
       "4019  0.128  0.243  0.296  16   41  \n",
       "\n",
       "[4020 rows x 14 columns]"
      ]
     },
     "execution_count": 43,
     "metadata": {},
     "output_type": "execute_result"
    }
   ],
   "source": [
    "team.dropna(axis=0)"
   ]
  },
  {
   "cell_type": "markdown",
   "id": "a3c5736e",
   "metadata": {},
   "source": [
    "import train_test_split and split from sklearn"
   ]
  },
  {
   "cell_type": "code",
   "execution_count": 44,
   "id": "92c219fd",
   "metadata": {},
   "outputs": [],
   "source": [
    "from sklearn.model_selection import train_test_split\n",
    "from sklearn.ensemble import RandomForestRegressor\n",
    "from sklearn.metrics import r2_score"
   ]
  },
  {
   "cell_type": "markdown",
   "id": "ed3b8a6f",
   "metadata": {},
   "source": [
    "view columns and assign test_train_split"
   ]
  },
  {
   "cell_type": "code",
   "execution_count": 45,
   "id": "b560154f",
   "metadata": {},
   "outputs": [],
   "source": [
    "cols = team.columns.view()\n",
    "y=team['R']\n",
    "x=team[['wRC','wOBA','WAR','OPS','ISO','OBP','SLG','HR','BB']]\n",
    "x_train, x_test, y_train, y_test = train_test_split(x, y, test_size=.20,random_state=0)"
   ]
  },
  {
   "cell_type": "markdown",
   "id": "c28b8165",
   "metadata": {},
   "source": [
    "run regressor instance and save to variable"
   ]
  },
  {
   "cell_type": "code",
   "execution_count": 46,
   "id": "2e323dd5",
   "metadata": {},
   "outputs": [],
   "source": [
    "reg = RandomForestRegressor(n_estimators=10, random_state=0)"
   ]
  },
  {
   "cell_type": "markdown",
   "id": "84c59d63",
   "metadata": {},
   "source": [
    "fit the training sets of X and Y"
   ]
  },
  {
   "cell_type": "code",
   "execution_count": 47,
   "id": "981f9f5d",
   "metadata": {},
   "outputs": [
    {
     "data": {
      "text/plain": [
       "RandomForestRegressor(n_estimators=10, random_state=0)"
      ]
     },
     "execution_count": 47,
     "metadata": {},
     "output_type": "execute_result"
    }
   ],
   "source": [
    "reg.fit(x_train, y_train)"
   ]
  },
  {
   "cell_type": "markdown",
   "id": "d1e6d18b",
   "metadata": {},
   "source": [
    "employ .predict() to predict Wins from our test set of features (X_test) and saved to variable y_predict, while also building a dataframe of all of our data points to easily visualize our regression results"
   ]
  },
  {
   "cell_type": "code",
   "execution_count": 48,
   "id": "05feea91",
   "metadata": {},
   "outputs": [],
   "source": [
    "y_predict = reg.predict(x_test)\n",
    "predict = pd.DataFrame(columns=([['test','predict','diff']]))\n",
    "predict['test'] = y_test\n",
    "predict['predict'] = y_predict\n",
    "predict['diff']=(y_test - y_predict)"
   ]
  },
  {
   "cell_type": "markdown",
   "id": "c79a6d99",
   "metadata": {},
   "source": [
    "use r2_score to check accuracy (1.00 is a Perfect score, will -1.00 is the worst score for the r2_score)"
   ]
  },
  {
   "cell_type": "code",
   "execution_count": 49,
   "id": "121a78f7",
   "metadata": {},
   "outputs": [
    {
     "name": "stdout",
     "output_type": "stream",
     "text": [
      "0.8105010845011305\n"
     ]
    }
   ],
   "source": [
    "accuracy = r2_score(y_test,y_predict)\n",
    "print(accuracy)"
   ]
  },
  {
   "cell_type": "code",
   "execution_count": 50,
   "id": "84f8ea79",
   "metadata": {
    "scrolled": false
   },
   "outputs": [
    {
     "name": "stdout",
     "output_type": "stream",
     "text": [
      "This iteration of this model, has scored 0.8105010845011305\n"
     ]
    }
   ],
   "source": [
    "print('This iteration of this model, has scored '+ str(accuracy))"
   ]
  },
  {
   "cell_type": "markdown",
   "id": "7fd52ba3",
   "metadata": {},
   "source": [
    "reshape arrays of columns in predict DF"
   ]
  },
  {
   "cell_type": "code",
   "execution_count": 51,
   "id": "5c6d4916",
   "metadata": {},
   "outputs": [],
   "source": [
    "X=np.array(predict['test']).reshape(-1)\n",
    "Y=np.array(predict['predict']).reshape(-1)\n",
    "hue=np.array(predict['diff']).reshape(-1)"
   ]
  },
  {
   "cell_type": "markdown",
   "id": "2cf156bf",
   "metadata": {},
   "source": [
    "plot with seaborn as sns"
   ]
  },
  {
   "cell_type": "code",
   "execution_count": 54,
   "id": "4bf6e1f1",
   "metadata": {
    "scrolled": true
   },
   "outputs": [
    {
     "data": {
      "text/plain": [
       "<seaborn.axisgrid.FacetGrid at 0x267fcb5a130>"
      ]
     },
     "execution_count": 54,
     "metadata": {},
     "output_type": "execute_result"
    },
    {
     "data": {
      "image/png": "[encoded data removed]",
      "text/plain": [
       "<Figure size 417.125x360 with 1 Axes>"
      ]
     },
     "metadata": {
      "needs_background": "light"
     },
     "output_type": "display_data"
    }
   ],
   "source": [
    "sns.relplot(x=X,y=Y,hue=hue,legend='brief',palette='crest')"
   ]
  },
  {
   "cell_type": "markdown",
   "id": "079fe7a6",
   "metadata": {},
   "source": [
    "use seaborns jointplot with a kind=resid subplot to see how close to no relationship we can get from our model. we will use a lowess smoother to help visualize a zero relationship (ideal)"
   ]
  },
  {
   "cell_type": "code",
   "execution_count": 67,
   "id": "ec1dbf00",
   "metadata": {
    "scrolled": false
   },
   "outputs": [
    {
     "data": {
      "image/png": "[encoded data removed]",
      "text/plain": [
       "<Figure size 432x432 with 3 Axes>"
      ]
     },
     "metadata": {
      "needs_background": "light"
     },
     "output_type": "display_data"
    }
   ],
   "source": [
    "\n",
    "plt = sns.jointplot(x=X,y=Y,kind='resid',palette='crest')\n"
   ]
  },
  {
   "cell_type": "code",
   "execution_count": null,
   "id": "554a269d",
   "metadata": {},
   "outputs": [],
   "source": []
  }
 ],
 "metadata": {
  "kernelspec": {
   "display_name": "Python 3",
   "language": "python",
   "name": "python3"
  },
  "language_info": {
   "codemirror_mode": {
    "name": "ipython",
    "version": 3
   },
   "file_extension": ".py",
   "mimetype": "text/x-python",
   "name": "python",
   "nbconvert_exporter": "python",
   "pygments_lexer": "ipython3",
   "version": "3.8.8"
  }
 },
 "nbformat": 4,
 "nbformat_minor": 5
}
