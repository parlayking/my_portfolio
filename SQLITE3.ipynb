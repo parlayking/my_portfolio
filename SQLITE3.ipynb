{
 "cells": [
  {
   "cell_type": "markdown",
   "id": "20a214e0",
   "metadata": {},
   "source": [
    "imports"
   ]
  },
  {
   "cell_type": "code",
   "execution_count": 7,
   "id": "8db3d796",
   "metadata": {},
   "outputs": [],
   "source": [
    "import sqlite3"
   ]
  },
  {
   "cell_type": "markdown",
   "id": "c30c1709",
   "metadata": {},
   "source": [
    "connect to sql"
   ]
  },
  {
   "cell_type": "code",
   "execution_count": 8,
   "id": "f5a6c8f1",
   "metadata": {},
   "outputs": [],
   "source": [
    "conn = sqlite3.connect('DailyStuffs.db')\n",
    "c = conn.cursor()"
   ]
  },
  {
   "cell_type": "markdown",
   "id": "52f3cbae",
   "metadata": {},
   "source": [
    "create table and columns (dont forget to Comment out()"
   ]
  },
  {
   "cell_type": "code",
   "execution_count": 9,
   "id": "de378063",
   "metadata": {},
   "outputs": [
    {
     "data": {
      "text/plain": [
       "<sqlite3.Cursor at 0x296ff925b20>"
      ]
     },
     "execution_count": 9,
     "metadata": {},
     "output_type": "execute_result"
    }
   ],
   "source": [
    "c.execute('''CREATE TABLE tasks (time TEXT, task TEXT, importance INT)''')"
   ]
  },
  {
   "cell_type": "markdown",
   "id": "232e59f8",
   "metadata": {},
   "source": [
    "input info"
   ]
  },
  {
   "cell_type": "code",
   "execution_count": 10,
   "id": "fa8d063a",
   "metadata": {},
   "outputs": [],
   "source": [
    "time = '10 oclock'\n",
    "task = 'Meet Carpet Guy @ 78 Josie rd.'\n",
    "imp = 10\n"
   ]
  },
  {
   "cell_type": "markdown",
   "id": "ce2ed7db",
   "metadata": {},
   "source": [
    "insert into database with c.execute"
   ]
  },
  {
   "cell_type": "code",
   "execution_count": 11,
   "id": "6daa29b6",
   "metadata": {},
   "outputs": [
    {
     "ename": "NameError",
     "evalue": "name 'importance' is not defined",
     "output_type": "error",
     "traceback": [
      "\u001b[1;31m---------------------------------------------------------------------------\u001b[0m",
      "\u001b[1;31mNameError\u001b[0m                                 Traceback (most recent call last)",
      "\u001b[1;32m<ipython-input-11-6b645c7b2da1>\u001b[0m in \u001b[0;36m<module>\u001b[1;34m\u001b[0m\n\u001b[1;32m----> 1\u001b[1;33m \u001b[0mc\u001b[0m\u001b[1;33m.\u001b[0m\u001b[0mexecute\u001b[0m\u001b[1;33m(\u001b[0m\u001b[1;34m'''INSERT INTO tasks VALUES(?,?,?)'''\u001b[0m\u001b[1;33m,\u001b[0m \u001b[1;33m(\u001b[0m\u001b[0mtime\u001b[0m\u001b[1;33m,\u001b[0m \u001b[0mtask\u001b[0m\u001b[1;33m,\u001b[0m \u001b[0mimportance\u001b[0m\u001b[1;33m)\u001b[0m\u001b[1;33m)\u001b[0m\u001b[1;33m\u001b[0m\u001b[1;33m\u001b[0m\u001b[0m\n\u001b[0m\u001b[0;32m      2\u001b[0m \u001b[0mconn\u001b[0m\u001b[1;33m.\u001b[0m\u001b[0mcommit\u001b[0m\u001b[1;33m(\u001b[0m\u001b[1;33m)\u001b[0m\u001b[1;33m\u001b[0m\u001b[1;33m\u001b[0m\u001b[0m\n",
      "\u001b[1;31mNameError\u001b[0m: name 'importance' is not defined"
     ]
    }
   ],
   "source": [
    "c.execute('''INSERT INTO tasks VALUES(?,?,?)''', (time, task, imp))\n",
    "conn.commit()"
   ]
  },
  {
   "cell_type": "code",
   "execution_count": null,
   "id": "af45e075",
   "metadata": {},
   "outputs": [],
   "source": [
    "c.execute('''SELECT * FROM tasks''')\n",
    "results = c.fetchall()\n",
    "print(results)"
   ]
  },
  {
   "cell_type": "code",
   "execution_count": null,
   "id": "3261f49f",
   "metadata": {},
   "outputs": [],
   "source": []
  }
 ],
 "metadata": {
  "kernelspec": {
   "display_name": "Python 3",
   "language": "python",
   "name": "python3"
  },
  "language_info": {
   "codemirror_mode": {
    "name": "ipython",
    "version": 3
   },
   "file_extension": ".py",
   "mimetype": "text/x-python",
   "name": "python",
   "nbconvert_exporter": "python",
   "pygments_lexer": "ipython3",
   "version": "3.8.8"
  }
 },
 "nbformat": 4,
 "nbformat_minor": 5
}
