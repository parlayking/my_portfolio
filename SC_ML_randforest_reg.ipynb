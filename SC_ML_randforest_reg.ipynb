{
 "cells": [
  {
   "cell_type": "markdown",
   "id": "6ad54820",
   "metadata": {},
   "source": [
    "all imports"
   ]
  },
  {
   "cell_type": "code",
   "execution_count": null,
   "id": "5d343dc8",
   "metadata": {},
   "outputs": [],
   "source": [
    "import sklearn as skl\n",
    "from sklearn.model_selection import train_test_split\n",
    "from sklearn.ensemble import RandomForestRegressor\n",
    "from sklearn.metrics import r2_score"
   ]
  },
  {
   "cell_type": "markdown",
   "id": "43b8e690",
   "metadata": {},
   "source": [
    "import dataframes from file"
   ]
  },
  {
   "cell_type": "code",
   "execution_count": null,
   "id": "5dc0caa9",
   "metadata": {},
   "outputs": [],
   "source": [
    "teamstatscsv = teamstatscsv.dropna(axis=1,how='all')\n",
    "team = teamstatscsv"
   ]
  },
  {
   "cell_type": "markdown",
   "id": "6119e888",
   "metadata": {},
   "source": [
    "find correlations with .corr(), and df details with .describe()"
   ]
  },
  {
   "cell_type": "code",
   "execution_count": null,
   "id": "7fac3d6e",
   "metadata": {},
   "outputs": [],
   "source": [
    "corr = team.corr()\n",
    "explore = team.describe()"
   ]
  },
  {
   "cell_type": "markdown",
   "id": "ebd45aef",
   "metadata": {},
   "source": [
    "now to establish our X & Y, using the top correlating stats to 'Wtm' (wins) (anything 70%<=)"
   ]
  },
  {
   "cell_type": "code",
   "execution_count": null,
   "id": "562c06c9",
   "metadata": {},
   "outputs": [],
   "source": [
    "Y=team['Wtm']\n",
    "X=team[['RC','RC/G','OBP','SLG','OPS','ISO','PwrSpd','AIR']]"
   ]
  },
  {
   "cell_type": "markdown",
   "id": "bf596c7b",
   "metadata": {},
   "source": [
    "Test Train Split"
   ]
  },
  {
   "cell_type": "code",
   "execution_count": null,
   "id": "4d45a617",
   "metadata": {},
   "outputs": [],
   "source": [
    "X_train, X_test, Y_train, Y_test = train_test_split(X, Y, test_size=0.2, random_state=0)"
   ]
  },
  {
   "cell_type": "markdown",
   "id": "a3523632",
   "metadata": {},
   "source": [
    "run regressor and save to variable"
   ]
  },
  {
   "cell_type": "code",
   "execution_count": null,
   "id": "08466b50",
   "metadata": {},
   "outputs": [],
   "source": [
    "reg = RandomForestRegressor(n_estimators=10, random_state=0)"
   ]
  },
  {
   "cell_type": "markdown",
   "id": "ee07af1e",
   "metadata": {},
   "source": [
    "fit the training sets of X and Y"
   ]
  },
  {
   "cell_type": "code",
   "execution_count": null,
   "id": "d4da6626",
   "metadata": {},
   "outputs": [],
   "source": [
    "reg.fit(X_train, Y_train)"
   ]
  },
  {
   "cell_type": "markdown",
   "id": "de67516c",
   "metadata": {},
   "source": [
    "now use .predict() to predict Wins from our test set of features (X_test) and saved to variable y_predict"
   ]
  },
  {
   "cell_type": "code",
   "execution_count": null,
   "id": "a4220078",
   "metadata": {},
   "outputs": [],
   "source": [
    "y_predict = reg.predict(X_test)\n",
    "print(y_predict)"
   ]
  },
  {
   "cell_type": "markdown",
   "id": "a14263bd",
   "metadata": {},
   "source": [
    "now use r2_score to check accuracy"
   ]
  },
  {
   "cell_type": "code",
   "execution_count": null,
   "id": "b349a015",
   "metadata": {},
   "outputs": [],
   "source": [
    "accuracy = r2_score(Y_test,y_predict)\n",
    "print(accuracy)"
   ]
  },
  {
   "cell_type": "markdown",
   "id": "5e6eb170",
   "metadata": {},
   "source": [
    "this model and Machine Learning ALgorithm has an accuracy score of 81%!!!"
   ]
  }
 ],
 "metadata": {
  "kernelspec": {
   "display_name": "Python 3",
   "language": "python",
   "name": "python3"
  },
  "language_info": {
   "codemirror_mode": {
    "name": "ipython",
    "version": 3
   },
   "file_extension": ".py",
   "mimetype": "text/x-python",
   "name": "python",
   "nbconvert_exporter": "python",
   "pygments_lexer": "ipython3",
   "version": "3.8.8"
  }
 },
 "nbformat": 4,
 "nbformat_minor": 5
}
