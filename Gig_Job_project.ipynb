{
 "cells": [
  {
   "cell_type": "markdown",
   "id": "04802d31",
   "metadata": {},
   "source": [
    "Imports for building GUI Tkinter and build placeholder and root(mainframe)"
   ]
  },
  {
   "cell_type": "code",
   "execution_count": 39,
   "id": "b5d74847",
   "metadata": {},
   "outputs": [],
   "source": [
    "import tkinter as tk\n",
    "from tkinter import *\n",
    "from tkinter import ttk\n",
    "import pandas as pd\n",
    "def save_csv():\n",
    "    file=df.to_csv('GigForm.csv')\n",
    "    \n",
    "def nothing():\n",
    "    x=0\n",
    "    \n",
    "\n"
   ]
  },
  {
   "cell_type": "markdown",
   "id": "e06c9c72",
   "metadata": {},
   "source": [
    "Create empty dataframe and a Root window to place all widgets inside of, build menu as well"
   ]
  },
  {
   "cell_type": "code",
   "execution_count": 40,
   "id": "57704409",
   "metadata": {},
   "outputs": [],
   "source": [
    "df=pd.DataFrame()\n",
    "df['Gig #']=0\n",
    "df['Client Name']=0\n",
    "df['Date Booked']=0\n",
    "df['Date of Service']=0\n",
    "df['Time of Service']=0\n",
    "df['Duration(estimate)']=0\n",
    "df['Job Notes']=0\n",
    "df['Duration']=0\n",
    "df['Address']=0\n",
    "df['Rate']=0\n"
   ]
  },
  {
   "cell_type": "markdown",
   "id": "32a1133b",
   "metadata": {},
   "source": [
    "Build grid matrix size (think connect4, its coordinates for where your widget will be placed at."
   ]
  },
  {
   "cell_type": "code",
   "execution_count": 41,
   "id": "e13ff3ba",
   "metadata": {},
   "outputs": [],
   "source": [
    "root=Tk()\n",
    "root.title('New Job/Gig Details')\n",
    "mainframe=ttk.Frame(root)\n",
    "mainframe.grid(column=4,row=20,sticky=(N, W, E, S))\n",
    "mainframe['relief']='sunken'\n",
    "root.columnconfigure(0,weight=1)\n",
    "root.rowconfigure(0, weight=1)\n",
    "\n",
    "\n"
   ]
  },
  {
   "cell_type": "code",
   "execution_count": 42,
   "id": "e7c096e8",
   "metadata": {},
   "outputs": [],
   "source": [
    "menubar = Menu(root)\n",
    "root.config(menu=menubar)\n",
    "filemenu=Menu(menubar)\n",
    "filemenu.add_command(label='New', command=nothing)\n",
    "filemenu.add_command(label='Open', command=nothing)\n",
    "filemenu.add_command(label='Save', command=save_csv())\n",
    "filemenu.add_separator()\n",
    "filemenu.add_command(label='Exit', command=root.quit)\n",
    "menubar.add_cascade(label='File', menu=filemenu)"
   ]
  },
  {
   "cell_type": "markdown",
   "id": "35989c2f",
   "metadata": {},
   "source": [
    "building first widgets and packing them to the window\n"
   ]
  },
  {
   "cell_type": "code",
   "execution_count": 43,
   "id": "7b53f2ac",
   "metadata": {},
   "outputs": [],
   "source": [
    "\n",
    "date_booked=StringVar()\n",
    "date_booked_entry=Text(mainframe,width=50, height=1,foreground='yellow',background='gray')\n",
    "date_booked_entry.grid(column=2,row=1)\n",
    "date_service=StringVar()\n",
    "date_service=Text(mainframe,width=50, height=1,foreground='yellow',background='gray')\n",
    "date_service.grid(column=2,row=2)\n",
    "time_service=StringVar()\n",
    "time_service=Text(mainframe,width=50,height=1,foreground='yellow',background='gray')\n",
    "time_service.grid(column=2,row=3)\n",
    "job_notes=Text(mainframe,width=50,height=1,foreground='yellow',background='gray')\n",
    "job_notes_text=job_notes.get('1.0','end')\n",
    "job_notes.grid(column=2,row=14)\n",
    "duration=Text(mainframe,width=50,height=1,foreground='yellow',background='gray')\n",
    "duration_text=job_notes.get('1.0','end')\n",
    "duration.grid(column=2,row=4)\n",
    "address=Text(mainframe,width=50,height=1,foreground='yellow',background='gray')\n",
    "address_text=job_notes.get('1.0','end')\n",
    "address.grid(column=2,row=5)\n",
    "client=Text(mainframe,width=50,height=1,foreground='yellow',background='gray')\n",
    "client_text=job_notes.get('1.0','end')\n",
    "client.grid(column=2,row=6)\n",
    "size=Listbox(mainframe, selectmode='multiple', width=50,height=1,foreground='yellow',background='gray')\n",
    "size_text=job_notes.get('1.0','end')\n",
    "size.grid(column=2,row=11)\n",
    "size.insert(1,'Small')\n",
    "size.insert(2,'Medium')\n",
    "size.insert(3,'Large')\n",
    "size.insert(4,'X-Large')"
   ]
  },
  {
   "cell_type": "markdown",
   "id": "530b2a7c",
   "metadata": {},
   "source": [
    "build all labels and place them in the widget with the .grid() func. "
   ]
  },
  {
   "cell_type": "code",
   "execution_count": 44,
   "id": "310c6dc0",
   "metadata": {},
   "outputs": [],
   "source": [
    "ttk.Label(mainframe,text='Date Booked').grid(column=1,row=1)\n",
    "ttk.Label(mainframe,text='Date of Service').grid(column=1,row=2)\n",
    "ttk.Label(mainframe,text='Time of Service').grid(column=1,row=3)\n",
    "ttk.Label(mainframe,text='Duration(estimate)').grid(column=1,row=4)\n",
    "ttk.Label(mainframe,text='Address:(Street/City/State)').grid(column=1,row=5)\n",
    "ttk.Label(mainframe,text='Client Name').grid(column=1,row=6)\n",
    "ttk.Label(mainframe,text='Rate').grid(column=1,row=7)\n",
    "ttk.Label(mainframe,text='Service Type').grid(column=1,row=8)\n",
    "ttk.Label(mainframe,text='Job #').grid(column=1,row=9)\n",
    "ttk.Label(mainframe,text='Directive/Goal').grid(column=1,row=10)\n",
    "ttk.Label(mainframe,text='Size').grid(column=1,row=11)\n",
    "ttk.Label(mainframe,text='Quantity').grid(column=1,row=12)\n",
    "ttk.Label(mainframe,text='Condition').grid(column=1,row=13)\n",
    "ttk.Label(mainframe,text='Notes').grid(column=1,row=14)\n",
    "ttk.Label(mainframe,text='Equipment').grid(column=1,row=15)\n",
    "ttk.Label(mainframe,text='Purchases').grid(column=1,row=16)\n",
    "\n",
    "\n",
    "\n",
    "for child in mainframe.winfo_children():\n",
    "    child.grid_configure(padx=5, pady=5)\n",
    "    \n",
    "\n",
    "\n",
    "root.mainloop()\n"
   ]
  }
 ],
 "metadata": {
  "kernelspec": {
   "display_name": "Python 3",
   "language": "python",
   "name": "python3"
  },
  "language_info": {
   "codemirror_mode": {
    "name": "ipython",
    "version": 3
   },
   "file_extension": ".py",
   "mimetype": "text/x-python",
   "name": "python",
   "nbconvert_exporter": "python",
   "pygments_lexer": "ipython3",
   "version": "3.8.8"
  }
 },
 "nbformat": 4,
 "nbformat_minor": 5
}
